{
  "cells": [
    {
      "cell_type": "code",
      "execution_count": null,
      "metadata": {
        "colab": {
          "base_uri": "https://localhost:8080/"
        },
        "id": "lIYdn1woOS1n",
        "outputId": "881d775a-f008-4e02-d1ee-6f1bcaebd179"
      },
      "outputs": [
        {
          "output_type": "stream",
          "name": "stdout",
          "text": [
            "Cloning into 'HodaDatasetReader'...\n",
            "remote: Enumerating objects: 24, done.\u001b[K\n",
            "remote: Total 24 (delta 0), reused 0 (delta 0), pack-reused 24\u001b[K\n",
            "Receiving objects: 100% (24/24), 6.34 MiB | 19.98 MiB/s, done.\n",
            "Resolving deltas: 100% (6/6), done.\n"
          ]
        }
      ],
      "source": [
        "!git clone https://github.com/amir-saniyan/HodaDatasetReader.git"
      ]
    },
    {
      "cell_type": "code",
      "source": [
        "import matplotlib.pyplot as plt\n",
        "from HodaDatasetReader.HodaDatasetReader import read_hoda_dataset"
      ],
      "metadata": {
        "id": "uI0yEKZck_wy"
      },
      "execution_count": null,
      "outputs": []
    },
    {
      "cell_type": "code",
      "source": [
        "X_train, y_train = read_hoda_dataset('/content/HodaDatasetReader/DigitDB/Train 60000.cdb')\n",
        "X_test, y_test = read_hoda_dataset('/content/HodaDatasetReader/DigitDB/Test 20000.cdb')"
      ],
      "metadata": {
        "id": "9ySdmm1ziT2O"
      },
      "execution_count": null,
      "outputs": []
    },
    {
      "cell_type": "code",
      "source": [
        "X_train.shape"
      ],
      "metadata": {
        "id": "cy4rnPafmK_y",
        "outputId": "0938a90f-ad8e-4821-e7a6-b5c93b658aba",
        "colab": {
          "base_uri": "https://localhost:8080/"
        }
      },
      "execution_count": null,
      "outputs": [
        {
          "output_type": "execute_result",
          "data": {
            "text/plain": [
              "(60000, 1024)"
            ]
          },
          "metadata": {},
          "execution_count": 12
        }
      ]
    },
    {
      "cell_type": "code",
      "source": [
        "plt.figure(figsize=(12,5))\n",
        "for i in range(10):\n",
        "  plt.subplot(2, 5, i+1)\n",
        "  plt.imshow(X_train[i].reshape(32,32))\n",
        "  plt.title(y_train[i])\n",
        "\n",
        "plt.tight_layout()\n",
        "plt.show()"
      ],
      "metadata": {
        "colab": {
          "base_uri": "https://localhost:8080/",
          "height": 370
        },
        "id": "VIKa96gqn9cm",
        "outputId": "b922dd2f-328c-44e3-8e84-384f4b580fc9"
      },
      "execution_count": null,
      "outputs": [
        {
          "output_type": "display_data",
          "data": {
            "text/plain": [
              "<Figure size 864x360 with 10 Axes>"
            ],
            "image/png": "[encoded data removed]"
          },
          "metadata": {
            "needs_background": "light"
          }
        }
      ]
    },
    {
      "cell_type": "markdown",
      "source": [
        "#train the model with Traditional SVM"
      ],
      "metadata": {
        "id": "_l0bo6pgJf6o"
      }
    },
    {
      "cell_type": "code",
      "source": [
        "from sklearn.svm import SVC\n",
        "from time import perf_counter\n",
        "\n",
        "start_tra = perf_counter()\n",
        "hoda_svc = SVC(kernel='linear', C=np.inf)\n",
        "hoda_svc.fit(X_train[:20000], y_train[:20000])\n",
        "end_tra = perf_counter()\n",
        "print(f'train phase time: ', round((end_tra-start_tra), 1))"
      ],
      "metadata": {
        "id": "YlSW29Z8mCxg"
      },
      "execution_count": null,
      "outputs": []
    },
    {
      "cell_type": "code",
      "source": [
        "start_ts = perf_counter()\n",
        "print('acc:', round(hoda_svc.score(X_test, y_test), 2))\n",
        "end_ts = perf_counter()\n",
        "print(f'test phase time: ', round((end_ts-start_ts), 1))"
      ],
      "metadata": {
        "colab": {
          "base_uri": "https://localhost:8080/"
        },
        "id": "KigtdSz4m04t",
        "outputId": "d5bfdfbe-a5c3-4d37-b767-a4ff5e1d35da"
      },
      "execution_count": null,
      "outputs": [
        {
          "output_type": "stream",
          "name": "stdout",
          "text": [
            "acc: 0.93\n",
            "test phase time:  52.4\n"
          ]
        }
      ]
    },
    {
      "cell_type": "code",
      "source": [
        "import numpy as np\n",
        "from sklearn.model_selection import GridSearchCV\n",
        "h_pars = {'kernel':['linear', 'rbf'], 'C':[0.01, 0.1, 1, np.inf]}\n",
        "svc = SVC()\n",
        "g_search = GridSearchCV(svc, h_pars, cv=4)\n",
        "g_search.fit(X_train[:20000], y_train[:20000])\n",
        "print(g_search.best_params_)\n",
        "g_search.best_score_"
      ],
      "metadata": {
        "colab": {
          "base_uri": "https://localhost:8080/"
        },
        "id": "7FvGn5iBlKlx",
        "outputId": "e4b59639-09d5-4efd-9e6d-f28b14c4bac4"
      },
      "execution_count": null,
      "outputs": [
        {
          "output_type": "stream",
          "name": "stderr",
          "text": [
            "/usr/local/lib/python3.10/dist-packages/sklearn/model_selection/_validation.py:378: FitFailedWarning: \n",
            "8 fits failed out of a total of 32.\n",
            "The score on these train-test partitions for these parameters will be set to nan.\n",
            "If these failures are not expected, you can try to debug them by setting error_score='raise'.\n",
            "\n",
            "Below are more details about the failures:\n",
            "--------------------------------------------------------------------------------\n",
            "8 fits failed with the following error:\n",
            "Traceback (most recent call last):\n",
            "  File \"/usr/local/lib/python3.10/dist-packages/sklearn/model_selection/_validation.py\", line 686, in _fit_and_score\n",
            "    estimator.fit(X_train, y_train, **fit_params)\n",
            "  File \"/usr/local/lib/python3.10/dist-packages/sklearn/svm/_base.py\", line 180, in fit\n",
            "    self._validate_params()\n",
            "  File \"/usr/local/lib/python3.10/dist-packages/sklearn/base.py\", line 600, in _validate_params\n",
            "    validate_parameter_constraints(\n",
            "  File \"/usr/local/lib/python3.10/dist-packages/sklearn/utils/_param_validation.py\", line 97, in validate_parameter_constraints\n",
            "    raise InvalidParameterError(\n",
            "sklearn.utils._param_validation.InvalidParameterError: The 'C' parameter of SVC must be a float in the range (0.0, inf). Got inf instead.\n",
            "\n",
            "  warnings.warn(some_fits_failed_message, FitFailedWarning)\n",
            "/usr/local/lib/python3.10/dist-packages/sklearn/model_selection/_search.py:952: UserWarning: One or more of the test scores are non-finite: [0.9677  0.90115 0.9631  0.96165 0.95945 0.9801      nan     nan]\n",
            "  warnings.warn(\n"
          ]
        },
        {
          "output_type": "stream",
          "name": "stdout",
          "text": [
            "{'C': 1, 'kernel': 'rbf'}\n"
          ]
        },
        {
          "output_type": "execute_result",
          "data": {
            "text/plain": [
              "0.9801000000000001"
            ]
          },
          "metadata": {},
          "execution_count": 7
        }
      ]
    },
    {
      "cell_type": "markdown",
      "source": [
        "#train the model with ANNs"
      ],
      "metadata": {
        "id": "hmsT-1BLK2fL"
      }
    },
    {
      "cell_type": "code",
      "source": [
        "y_train.shape"
      ],
      "metadata": {
        "colab": {
          "base_uri": "https://localhost:8080/"
        },
        "id": "gI6eOOTK29qZ",
        "outputId": "03020b84-e1a0-4035-ce24-d13012d5f89b"
      },
      "execution_count": null,
      "outputs": [
        {
          "output_type": "execute_result",
          "data": {
            "text/plain": [
              "(60000,)"
            ]
          },
          "metadata": {},
          "execution_count": 67
        }
      ]
    },
    {
      "cell_type": "code",
      "source": [
        "y_train"
      ],
      "metadata": {
        "colab": {
          "base_uri": "https://localhost:8080/"
        },
        "id": "4cVsWAe35uMs",
        "outputId": "5c5e1156-df35-40c9-ab56-48b8736f2d71"
      },
      "execution_count": null,
      "outputs": [
        {
          "output_type": "execute_result",
          "data": {
            "text/plain": [
              "array([6., 5., 0., ..., 2., 6., 6.], dtype=float32)"
            ]
          },
          "metadata": {},
          "execution_count": 82
        }
      ]
    },
    {
      "cell_type": "code",
      "source": [
        "#one-hot encoding\n",
        "from tensorflow.keras import utils\n",
        "y_train = utils.to_categorical(y_train, num_classes=10)\n",
        "y_test = utils.to_categorical(y_test, num_classes=10)"
      ],
      "metadata": {
        "id": "n5Rhzvu_vcVi"
      },
      "execution_count": null,
      "outputs": []
    },
    {
      "cell_type": "code",
      "source": [
        "##Import the libraries\n",
        "from tensorflow.keras.models import Model\n",
        "from tensorflow.keras.layers import Input, Dense, Dropout, BatchNormalization\n",
        "from tensorflow.keras import initializers, regularizers"
      ],
      "metadata": {
        "id": "sWADaqrfJHZq"
      },
      "execution_count": null,
      "outputs": []
    },
    {
      "cell_type": "code",
      "source": [
        "# Building the neural network\n",
        "##define input layer\n",
        "input_layer = Input(shape=(1024,), name='input_layer')\n",
        "initializer = initializers.HeUniform()\n",
        "\n",
        "##Defining 3 hidden layers\n",
        "Layer_1 = Dense(512, activation=\"relu\", name='Layer_1', kernel_initializer=initializer, kernel_regularizer=regularizers.l2(1e-3))(input_layer)\n",
        "Layer_2 = Dropout(0.5)(Layer_1)\n",
        "\n",
        "Layer_3 = Dense(256, activation=\"relu\", name='Layer_3', kernel_regularizer=regularizers.l2(1e-3))(Layer_2)\n",
        "Layer_4 = Dropout(0.5)(Layer_3)\n",
        "\n",
        "Layer_5 = Dense(128, activation='relu', kernel_regularizer='l2', name='Layer_5')(Layer_4)\n",
        "\n",
        "##overfitting handling\n",
        "Layer_6 = BatchNormalization()(Layer_5)\n",
        "Layer_7 = Dropout(0.5)(Layer_6)\n",
        "\n",
        "##Defining output layer\n",
        "output = Dense(10, activation=\"softmax\", name='output')(Layer_7)\n",
        "\n",
        "##Defining the model by specifying the input and output layers\n",
        "model = Model(inputs=input_layer, outputs=output)"
      ],
      "metadata": {
        "id": "l_i9_PFqJIMU"
      },
      "execution_count": null,
      "outputs": []
    },
    {
      "cell_type": "code",
      "source": [
        "##summary of the model\n",
        "model.summary()"
      ],
      "metadata": {
        "colab": {
          "base_uri": "https://localhost:8080/"
        },
        "id": "QMOptieYJk9m",
        "outputId": "49563bcb-9f8e-49a6-dd33-16db1feb6ee8"
      },
      "execution_count": null,
      "outputs": [
        {
          "output_type": "stream",
          "name": "stdout",
          "text": [
            "Model: \"model_15\"\n",
            "_________________________________________________________________\n",
            " Layer (type)                Output Shape              Param #   \n",
            "=================================================================\n",
            " input_layer (InputLayer)    [(None, 1024)]            0         \n",
            "                                                                 \n",
            " Layer_1 (Dense)             (None, 512)               524800    \n",
            "                                                                 \n",
            " dropout_45 (Dropout)        (None, 512)               0         \n",
            "                                                                 \n",
            " Layer_3 (Dense)             (None, 256)               131328    \n",
            "                                                                 \n",
            " dropout_46 (Dropout)        (None, 256)               0         \n",
            "                                                                 \n",
            " Layer_5 (Dense)             (None, 128)               32896     \n",
            "                                                                 \n",
            " batch_normalization_15 (Ba  (None, 128)               512       \n",
            " tchNormalization)                                               \n",
            "                                                                 \n",
            " dropout_47 (Dropout)        (None, 128)               0         \n",
            "                                                                 \n",
            " output (Dense)              (None, 10)                1290      \n",
            "                                                                 \n",
            "=================================================================\n",
            "Total params: 690826 (2.64 MB)\n",
            "Trainable params: 690570 (2.63 MB)\n",
            "Non-trainable params: 256 (1.00 KB)\n",
            "_________________________________________________________________\n"
          ]
        }
      ]
    },
    {
      "cell_type": "code",
      "source": [
        "## defining the optimiser and loss function\n",
        "from keras.optimizers import Adam\n",
        "#from keras.losses import SparseCategoricalCrossentropy\n",
        "from keras.metrics import F1Score\n",
        "\n",
        "adam = Adam(learning_rate=0.001, beta_1=0.91, beta_2=0.998)\n",
        "#scce = SparseCategoricalCrossentropy()\n",
        "#metric = F1Score()\n",
        "\n",
        "model.compile(optimizer=adam, loss='categorical_crossentropy', metrics=['accuracy'])\n",
        "\n",
        "##training the model\n",
        "history = model.fit(X_train, y_train, epochs=100, verbose=True,\n",
        "                    batch_size=128, validation_data=(X_test, y_test))"
      ],
      "metadata": {
        "colab": {
          "base_uri": "https://localhost:8080/"
        },
        "id": "MEfqziEJJmq1",
        "outputId": "6fa717d5-8a36-4e97-9c79-f0437862a067"
      },
      "execution_count": null,
      "outputs": [
        {
          "output_type": "stream",
          "name": "stdout",
          "text": [
            "Epoch 1/100\n",
            "469/469 [==============================] - 5s 7ms/step - loss: 1.9791 - accuracy: 0.8758 - val_loss: 0.9054 - val_accuracy: 0.9446\n",
            "Epoch 2/100\n",
            "469/469 [==============================] - 3s 6ms/step - loss: 0.6382 - accuracy: 0.9578 - val_loss: 0.4942 - val_accuracy: 0.9559\n",
            "Epoch 3/100\n",
            "469/469 [==============================] - 3s 6ms/step - loss: 0.4161 - accuracy: 0.9643 - val_loss: 0.4028 - val_accuracy: 0.9550\n",
            "Epoch 4/100\n",
            "469/469 [==============================] - 3s 6ms/step - loss: 0.3534 - accuracy: 0.9665 - val_loss: 0.3733 - val_accuracy: 0.9542\n",
            "Epoch 5/100\n",
            "469/469 [==============================] - 3s 6ms/step - loss: 0.3271 - accuracy: 0.9666 - val_loss: 0.3366 - val_accuracy: 0.9620\n",
            "Epoch 6/100\n",
            "469/469 [==============================] - 3s 5ms/step - loss: 0.3195 - accuracy: 0.9669 - val_loss: 0.3256 - val_accuracy: 0.9633\n",
            "Epoch 7/100\n",
            "469/469 [==============================] - 3s 6ms/step - loss: 0.3127 - accuracy: 0.9680 - val_loss: 0.3152 - val_accuracy: 0.9657\n",
            "Epoch 8/100\n",
            "469/469 [==============================] - 3s 7ms/step - loss: 0.3121 - accuracy: 0.9675 - val_loss: 0.3407 - val_accuracy: 0.9595\n",
            "Epoch 9/100\n",
            "469/469 [==============================] - 3s 6ms/step - loss: 0.3037 - accuracy: 0.9689 - val_loss: 0.3230 - val_accuracy: 0.9629\n",
            "Epoch 10/100\n",
            "469/469 [==============================] - 3s 6ms/step - loss: 0.3068 - accuracy: 0.9679 - val_loss: 0.3088 - val_accuracy: 0.9646\n",
            "Epoch 11/100\n",
            "469/469 [==============================] - 3s 5ms/step - loss: 0.2982 - accuracy: 0.9688 - val_loss: 0.3070 - val_accuracy: 0.9640\n",
            "Epoch 12/100\n",
            "469/469 [==============================] - 3s 7ms/step - loss: 0.2962 - accuracy: 0.9685 - val_loss: 0.3134 - val_accuracy: 0.9645\n",
            "Epoch 13/100\n",
            "469/469 [==============================] - 3s 6ms/step - loss: 0.3027 - accuracy: 0.9684 - val_loss: 0.3239 - val_accuracy: 0.9610\n",
            "Epoch 14/100\n",
            "469/469 [==============================] - 3s 5ms/step - loss: 0.3014 - accuracy: 0.9681 - val_loss: 0.3115 - val_accuracy: 0.9635\n",
            "Epoch 15/100\n",
            "469/469 [==============================] - 3s 5ms/step - loss: 0.2934 - accuracy: 0.9691 - val_loss: 0.2964 - val_accuracy: 0.9657\n",
            "Epoch 16/100\n",
            "469/469 [==============================] - 3s 7ms/step - loss: 0.2933 - accuracy: 0.9688 - val_loss: 0.3147 - val_accuracy: 0.9607\n",
            "Epoch 17/100\n",
            "469/469 [==============================] - 3s 6ms/step - loss: 0.3006 - accuracy: 0.9679 - val_loss: 0.3359 - val_accuracy: 0.9577\n",
            "Epoch 18/100\n",
            "469/469 [==============================] - 3s 5ms/step - loss: 0.2964 - accuracy: 0.9682 - val_loss: 0.3363 - val_accuracy: 0.9572\n",
            "Epoch 19/100\n",
            "469/469 [==============================] - 3s 5ms/step - loss: 0.2923 - accuracy: 0.9682 - val_loss: 0.3078 - val_accuracy: 0.9642\n",
            "Epoch 20/100\n",
            "469/469 [==============================] - 3s 6ms/step - loss: 0.2910 - accuracy: 0.9684 - val_loss: 0.3239 - val_accuracy: 0.9588\n",
            "Epoch 21/100\n",
            "469/469 [==============================] - 3s 6ms/step - loss: 0.2945 - accuracy: 0.9689 - val_loss: 0.3026 - val_accuracy: 0.9633\n",
            "Epoch 22/100\n",
            "469/469 [==============================] - 3s 6ms/step - loss: 0.2869 - accuracy: 0.9699 - val_loss: 0.2968 - val_accuracy: 0.9642\n",
            "Epoch 23/100\n",
            "469/469 [==============================] - 3s 5ms/step - loss: 0.2870 - accuracy: 0.9682 - val_loss: 0.3030 - val_accuracy: 0.9638\n",
            "Epoch 24/100\n",
            "469/469 [==============================] - 3s 6ms/step - loss: 0.2865 - accuracy: 0.9689 - val_loss: 0.3074 - val_accuracy: 0.9599\n",
            "Epoch 25/100\n",
            "469/469 [==============================] - 3s 7ms/step - loss: 0.2918 - accuracy: 0.9680 - val_loss: 0.3101 - val_accuracy: 0.9626\n",
            "Epoch 26/100\n",
            "469/469 [==============================] - 3s 6ms/step - loss: 0.2806 - accuracy: 0.9694 - val_loss: 0.2919 - val_accuracy: 0.9640\n",
            "Epoch 27/100\n",
            "469/469 [==============================] - 3s 6ms/step - loss: 0.2884 - accuracy: 0.9692 - val_loss: 0.2867 - val_accuracy: 0.9664\n",
            "Epoch 28/100\n",
            "469/469 [==============================] - 3s 5ms/step - loss: 0.2865 - accuracy: 0.9682 - val_loss: 0.2982 - val_accuracy: 0.9635\n",
            "Epoch 29/100\n",
            "469/469 [==============================] - 3s 6ms/step - loss: 0.2854 - accuracy: 0.9687 - val_loss: 0.2915 - val_accuracy: 0.9654\n",
            "Epoch 30/100\n",
            "469/469 [==============================] - 3s 6ms/step - loss: 0.2829 - accuracy: 0.9690 - val_loss: 0.2956 - val_accuracy: 0.9646\n",
            "Epoch 31/100\n",
            "469/469 [==============================] - 3s 5ms/step - loss: 0.2858 - accuracy: 0.9688 - val_loss: 0.3060 - val_accuracy: 0.9610\n",
            "Epoch 32/100\n",
            "469/469 [==============================] - 3s 5ms/step - loss: 0.2823 - accuracy: 0.9689 - val_loss: 0.3003 - val_accuracy: 0.9633\n",
            "Epoch 33/100\n",
            "469/469 [==============================] - 3s 6ms/step - loss: 0.2811 - accuracy: 0.9686 - val_loss: 0.2939 - val_accuracy: 0.9643\n",
            "Epoch 34/100\n",
            "469/469 [==============================] - 3s 7ms/step - loss: 0.2890 - accuracy: 0.9684 - val_loss: 0.2921 - val_accuracy: 0.9657\n",
            "Epoch 35/100\n",
            "469/469 [==============================] - 3s 6ms/step - loss: 0.2817 - accuracy: 0.9695 - val_loss: 0.3012 - val_accuracy: 0.9624\n",
            "Epoch 36/100\n",
            "469/469 [==============================] - 3s 6ms/step - loss: 0.2839 - accuracy: 0.9682 - val_loss: 0.3132 - val_accuracy: 0.9596\n",
            "Epoch 37/100\n",
            "469/469 [==============================] - 3s 6ms/step - loss: 0.2799 - accuracy: 0.9695 - val_loss: 0.2880 - val_accuracy: 0.9655\n",
            "Epoch 38/100\n",
            "469/469 [==============================] - 3s 7ms/step - loss: 0.2796 - accuracy: 0.9680 - val_loss: 0.2903 - val_accuracy: 0.9632\n",
            "Epoch 39/100\n",
            "469/469 [==============================] - 3s 6ms/step - loss: 0.2824 - accuracy: 0.9690 - val_loss: 0.2958 - val_accuracy: 0.9628\n",
            "Epoch 40/100\n",
            "469/469 [==============================] - 3s 6ms/step - loss: 0.2797 - accuracy: 0.9691 - val_loss: 0.2944 - val_accuracy: 0.9646\n",
            "Epoch 41/100\n",
            "469/469 [==============================] - 3s 5ms/step - loss: 0.2744 - accuracy: 0.9701 - val_loss: 0.2792 - val_accuracy: 0.9680\n",
            "Epoch 42/100\n",
            "469/469 [==============================] - 3s 6ms/step - loss: 0.2815 - accuracy: 0.9690 - val_loss: 0.2795 - val_accuracy: 0.9662\n",
            "Epoch 43/100\n",
            "469/469 [==============================] - 3s 7ms/step - loss: 0.2803 - accuracy: 0.9695 - val_loss: 0.2947 - val_accuracy: 0.9619\n",
            "Epoch 44/100\n",
            "469/469 [==============================] - 3s 5ms/step - loss: 0.2833 - accuracy: 0.9685 - val_loss: 0.2943 - val_accuracy: 0.9645\n",
            "Epoch 45/100\n",
            "469/469 [==============================] - 3s 6ms/step - loss: 0.2726 - accuracy: 0.9698 - val_loss: 0.3052 - val_accuracy: 0.9618\n",
            "Epoch 46/100\n",
            "469/469 [==============================] - 3s 6ms/step - loss: 0.2812 - accuracy: 0.9690 - val_loss: 0.3152 - val_accuracy: 0.9577\n",
            "Epoch 47/100\n",
            "469/469 [==============================] - 3s 7ms/step - loss: 0.2810 - accuracy: 0.9691 - val_loss: 0.2830 - val_accuracy: 0.9657\n",
            "Epoch 48/100\n",
            "469/469 [==============================] - 3s 6ms/step - loss: 0.2746 - accuracy: 0.9702 - val_loss: 0.2984 - val_accuracy: 0.9625\n",
            "Epoch 49/100\n",
            "469/469 [==============================] - 3s 6ms/step - loss: 0.2821 - accuracy: 0.9687 - val_loss: 0.2957 - val_accuracy: 0.9627\n",
            "Epoch 50/100\n",
            "469/469 [==============================] - 3s 6ms/step - loss: 0.2834 - accuracy: 0.9675 - val_loss: 0.2842 - val_accuracy: 0.9662\n",
            "Epoch 51/100\n",
            "469/469 [==============================] - 3s 7ms/step - loss: 0.2772 - accuracy: 0.9696 - val_loss: 0.3090 - val_accuracy: 0.9607\n",
            "Epoch 52/100\n",
            "469/469 [==============================] - 3s 5ms/step - loss: 0.2759 - accuracy: 0.9692 - val_loss: 0.2931 - val_accuracy: 0.9617\n",
            "Epoch 53/100\n",
            "469/469 [==============================] - 3s 5ms/step - loss: 0.2783 - accuracy: 0.9682 - val_loss: 0.2972 - val_accuracy: 0.9615\n",
            "Epoch 54/100\n",
            "469/469 [==============================] - 3s 6ms/step - loss: 0.2749 - accuracy: 0.9693 - val_loss: 0.2995 - val_accuracy: 0.9622\n",
            "Epoch 55/100\n",
            "469/469 [==============================] - 3s 6ms/step - loss: 0.2758 - accuracy: 0.9694 - val_loss: 0.2870 - val_accuracy: 0.9640\n",
            "Epoch 56/100\n",
            "469/469 [==============================] - 3s 6ms/step - loss: 0.2814 - accuracy: 0.9685 - val_loss: 0.2929 - val_accuracy: 0.9654\n",
            "Epoch 57/100\n",
            "469/469 [==============================] - 3s 6ms/step - loss: 0.2780 - accuracy: 0.9692 - val_loss: 0.2816 - val_accuracy: 0.9664\n",
            "Epoch 58/100\n",
            "469/469 [==============================] - 3s 6ms/step - loss: 0.2753 - accuracy: 0.9689 - val_loss: 0.2817 - val_accuracy: 0.9659\n",
            "Epoch 59/100\n",
            "469/469 [==============================] - 3s 6ms/step - loss: 0.2800 - accuracy: 0.9685 - val_loss: 0.2805 - val_accuracy: 0.9664\n",
            "Epoch 60/100\n",
            "469/469 [==============================] - 3s 7ms/step - loss: 0.2793 - accuracy: 0.9690 - val_loss: 0.2758 - val_accuracy: 0.9677\n",
            "Epoch 61/100\n",
            "469/469 [==============================] - 3s 5ms/step - loss: 0.2751 - accuracy: 0.9695 - val_loss: 0.2841 - val_accuracy: 0.9670\n",
            "Epoch 62/100\n",
            "469/469 [==============================] - 3s 5ms/step - loss: 0.2732 - accuracy: 0.9696 - val_loss: 0.2917 - val_accuracy: 0.9631\n",
            "Epoch 63/100\n",
            "469/469 [==============================] - 3s 5ms/step - loss: 0.2789 - accuracy: 0.9683 - val_loss: 0.2828 - val_accuracy: 0.9643\n",
            "Epoch 64/100\n",
            "469/469 [==============================] - 3s 7ms/step - loss: 0.2762 - accuracy: 0.9685 - val_loss: 0.2772 - val_accuracy: 0.9670\n",
            "Epoch 65/100\n",
            "469/469 [==============================] - 3s 6ms/step - loss: 0.2770 - accuracy: 0.9682 - val_loss: 0.2789 - val_accuracy: 0.9651\n",
            "Epoch 66/100\n",
            "469/469 [==============================] - 3s 6ms/step - loss: 0.2715 - accuracy: 0.9699 - val_loss: 0.2977 - val_accuracy: 0.9621\n",
            "Epoch 67/100\n",
            "469/469 [==============================] - 3s 6ms/step - loss: 0.2781 - accuracy: 0.9685 - val_loss: 0.2776 - val_accuracy: 0.9665\n",
            "Epoch 68/100\n",
            "469/469 [==============================] - 3s 6ms/step - loss: 0.2770 - accuracy: 0.9687 - val_loss: 0.2872 - val_accuracy: 0.9661\n",
            "Epoch 69/100\n",
            "469/469 [==============================] - 3s 6ms/step - loss: 0.2769 - accuracy: 0.9693 - val_loss: 0.2799 - val_accuracy: 0.9658\n",
            "Epoch 70/100\n",
            "469/469 [==============================] - 3s 6ms/step - loss: 0.2701 - accuracy: 0.9696 - val_loss: 0.2765 - val_accuracy: 0.9674\n",
            "Epoch 71/100\n",
            "469/469 [==============================] - 3s 6ms/step - loss: 0.2774 - accuracy: 0.9685 - val_loss: 0.2926 - val_accuracy: 0.9625\n",
            "Epoch 72/100\n",
            "469/469 [==============================] - 3s 6ms/step - loss: 0.2740 - accuracy: 0.9690 - val_loss: 0.2847 - val_accuracy: 0.9639\n",
            "Epoch 73/100\n",
            "469/469 [==============================] - 3s 7ms/step - loss: 0.2753 - accuracy: 0.9679 - val_loss: 0.3180 - val_accuracy: 0.9530\n",
            "Epoch 74/100\n",
            "469/469 [==============================] - 3s 5ms/step - loss: 0.2761 - accuracy: 0.9687 - val_loss: 0.2929 - val_accuracy: 0.9625\n",
            "Epoch 75/100\n",
            "469/469 [==============================] - 3s 6ms/step - loss: 0.2776 - accuracy: 0.9689 - val_loss: 0.2738 - val_accuracy: 0.9663\n",
            "Epoch 76/100\n",
            "469/469 [==============================] - 3s 5ms/step - loss: 0.2709 - accuracy: 0.9689 - val_loss: 0.2895 - val_accuracy: 0.9618\n",
            "Epoch 77/100\n",
            "469/469 [==============================] - 3s 7ms/step - loss: 0.2760 - accuracy: 0.9682 - val_loss: 0.2737 - val_accuracy: 0.9657\n",
            "Epoch 78/100\n",
            "469/469 [==============================] - 3s 6ms/step - loss: 0.2691 - accuracy: 0.9693 - val_loss: 0.3087 - val_accuracy: 0.9581\n",
            "Epoch 79/100\n",
            "469/469 [==============================] - 3s 6ms/step - loss: 0.2715 - accuracy: 0.9695 - val_loss: 0.2850 - val_accuracy: 0.9628\n",
            "Epoch 80/100\n",
            "469/469 [==============================] - 3s 6ms/step - loss: 0.2688 - accuracy: 0.9696 - val_loss: 0.2934 - val_accuracy: 0.9630\n",
            "Epoch 81/100\n",
            "469/469 [==============================] - 3s 7ms/step - loss: 0.2761 - accuracy: 0.9692 - val_loss: 0.2763 - val_accuracy: 0.9662\n",
            "Epoch 82/100\n",
            "469/469 [==============================] - 3s 6ms/step - loss: 0.2693 - accuracy: 0.9692 - val_loss: 0.2812 - val_accuracy: 0.9643\n",
            "Epoch 83/100\n",
            "469/469 [==============================] - 3s 5ms/step - loss: 0.2685 - accuracy: 0.9689 - val_loss: 0.2838 - val_accuracy: 0.9638\n",
            "Epoch 84/100\n",
            "469/469 [==============================] - 3s 5ms/step - loss: 0.2723 - accuracy: 0.9683 - val_loss: 0.2802 - val_accuracy: 0.9639\n",
            "Epoch 85/100\n",
            "469/469 [==============================] - 3s 6ms/step - loss: 0.2720 - accuracy: 0.9688 - val_loss: 0.2735 - val_accuracy: 0.9657\n",
            "Epoch 86/100\n",
            "469/469 [==============================] - 3s 6ms/step - loss: 0.2752 - accuracy: 0.9688 - val_loss: 0.2742 - val_accuracy: 0.9677\n",
            "Epoch 87/100\n",
            "469/469 [==============================] - 3s 6ms/step - loss: 0.2678 - accuracy: 0.9699 - val_loss: 0.2840 - val_accuracy: 0.9638\n",
            "Epoch 88/100\n",
            "469/469 [==============================] - 3s 6ms/step - loss: 0.2736 - accuracy: 0.9683 - val_loss: 0.2800 - val_accuracy: 0.9639\n",
            "Epoch 89/100\n",
            "469/469 [==============================] - 3s 6ms/step - loss: 0.2736 - accuracy: 0.9687 - val_loss: 0.2799 - val_accuracy: 0.9650\n",
            "Epoch 90/100\n",
            "469/469 [==============================] - 3s 7ms/step - loss: 0.2703 - accuracy: 0.9688 - val_loss: 0.2714 - val_accuracy: 0.9675\n",
            "Epoch 91/100\n",
            "469/469 [==============================] - 3s 6ms/step - loss: 0.2689 - accuracy: 0.9688 - val_loss: 0.2873 - val_accuracy: 0.9629\n",
            "Epoch 92/100\n",
            "469/469 [==============================] - 3s 6ms/step - loss: 0.2703 - accuracy: 0.9684 - val_loss: 0.2902 - val_accuracy: 0.9627\n",
            "Epoch 93/100\n",
            "469/469 [==============================] - 3s 6ms/step - loss: 0.2671 - accuracy: 0.9693 - val_loss: 0.2828 - val_accuracy: 0.9640\n",
            "Epoch 94/100\n",
            "469/469 [==============================] - 3s 7ms/step - loss: 0.2734 - accuracy: 0.9688 - val_loss: 0.2821 - val_accuracy: 0.9642\n",
            "Epoch 95/100\n",
            "469/469 [==============================] - 3s 6ms/step - loss: 0.2715 - accuracy: 0.9682 - val_loss: 0.2782 - val_accuracy: 0.9646\n",
            "Epoch 96/100\n",
            "469/469 [==============================] - 3s 6ms/step - loss: 0.2677 - accuracy: 0.9696 - val_loss: 0.2977 - val_accuracy: 0.9602\n",
            "Epoch 97/100\n",
            "469/469 [==============================] - 3s 6ms/step - loss: 0.2744 - accuracy: 0.9673 - val_loss: 0.2789 - val_accuracy: 0.9674\n",
            "Epoch 98/100\n",
            "469/469 [==============================] - 3s 7ms/step - loss: 0.2668 - accuracy: 0.9696 - val_loss: 0.2740 - val_accuracy: 0.9656\n",
            "Epoch 99/100\n",
            "469/469 [==============================] - 3s 6ms/step - loss: 0.2738 - accuracy: 0.9675 - val_loss: 0.2711 - val_accuracy: 0.9657\n",
            "Epoch 100/100\n",
            "469/469 [==============================] - 3s 6ms/step - loss: 0.2637 - accuracy: 0.9697 - val_loss: 0.2859 - val_accuracy: 0.9641\n"
          ]
        }
      ]
    },
    {
      "cell_type": "code",
      "source": [
        "plt.plot(history.history['loss'])\n",
        "plt.plot(history.history['val_loss'])"
      ],
      "metadata": {
        "colab": {
          "base_uri": "https://localhost:8080/",
          "height": 448
        },
        "id": "hWqny_4O6ZZs",
        "outputId": "4ee11d9f-1da2-4589-8604-64449d457904"
      },
      "execution_count": null,
      "outputs": [
        {
          "output_type": "execute_result",
          "data": {
            "text/plain": [
              "[<matplotlib.lines.Line2D at 0x7841fe93eb00>]"
            ]
          },
          "metadata": {},
          "execution_count": 88
        },
        {
          "output_type": "display_data",
          "data": {
            "text/plain": [
              "<Figure size 640x480 with 1 Axes>"
            ],
            "image/png": "[encoded data removed]"
          },
          "metadata": {}
        }
      ]
    },
    {
      "cell_type": "code",
      "source": [
        "score = model.evaluate(X_test, y_test)\n",
        "print(\"test loss: \",  score[0])\n",
        "print(\"test accuracy: \",  score[1])"
      ],
      "metadata": {
        "colab": {
          "base_uri": "https://localhost:8080/"
        },
        "id": "68Yj0PFzjne5",
        "outputId": "4b84554e-0d0c-47e6-a744-441df59558ee"
      },
      "execution_count": null,
      "outputs": [
        {
          "output_type": "stream",
          "name": "stdout",
          "text": [
            "625/625 [==============================] - 2s 3ms/step - loss: 0.2859 - accuracy: 0.9641\n",
            "test loss:  0.2858700752258301\n",
            "test accuracy:  0.9641000032424927\n"
          ]
        }
      ]
    }
  ],
  "metadata": {
    "colab": {
      "provenance": [],
      "gpuType": "T4"
    },
    "kernelspec": {
      "display_name": "Python 3",
      "name": "python3"
    },
    "accelerator": "GPU"
  },
  "nbformat": 4,
  "nbformat_minor": 0
}